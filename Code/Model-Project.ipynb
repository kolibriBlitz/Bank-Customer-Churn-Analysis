{
 "cells": [
  {
   "cell_type": "markdown",
   "id": "f22e0019-55d7-4dbd-a970-c1859e2eb030",
   "metadata": {},
   "source": [
    "# Bank Churn Data Modeling Project"
   ]
  },
  {
   "cell_type": "markdown",
   "id": "3775bf5a-8ab2-4054-aaef-f68acba914b4",
   "metadata": {},
   "source": [
    "## Setup"
   ]
  },
  {
   "cell_type": "code",
   "execution_count": 12,
   "id": "f8a70198-0f75-45f7-8c00-9dfdda797874",
   "metadata": {},
   "outputs": [],
   "source": [
    "import pandas as pd\n",
    "import numpy as mp\n",
    "import matplotlib.pyplot as plt\n",
    "import seaborn as sns\n",
    "from sklearn.model_selection import train_test_split"
   ]
  },
  {
   "cell_type": "code",
   "execution_count": 5,
   "id": "7c2ac683-405e-493b-ac02-284e01cdd650",
   "metadata": {},
   "outputs": [],
   "source": [
    "file_path='prepped_bank_churn.csv'\n",
    "data=pd.read_csv(file_path)"
   ]
  },
  {
   "cell_type": "code",
   "execution_count": 6,
   "id": "2cdaf11e-354e-419d-83c9-bd854b20a0cd",
   "metadata": {},
   "outputs": [
    {
     "name": "stdout",
     "output_type": "stream",
     "text": [
      "<class 'pandas.core.frame.DataFrame'>\n",
      "RangeIndex: 10000 entries, 0 to 9999\n",
      "Data columns (total 13 columns):\n",
      " #   Column              Non-Null Count  Dtype  \n",
      "---  ------              --------------  -----  \n",
      " 0   CreditScore         10000 non-null  int64  \n",
      " 1   Age                 10000 non-null  int64  \n",
      " 2   EstimatedSalary     10000 non-null  float64\n",
      " 3   Balance             10000 non-null  float64\n",
      " 4   NumOfProducts       10000 non-null  int64  \n",
      " 5   Tenure              10000 non-null  int64  \n",
      " 6   Exited              10000 non-null  int64  \n",
      " 7   Geography_Germany   10000 non-null  bool   \n",
      " 8   Geography_Spain     10000 non-null  bool   \n",
      " 9   Gender_Male         10000 non-null  bool   \n",
      " 10  HasCrCard_Yes       10000 non-null  bool   \n",
      " 11  IsActiveMember_Yes  10000 non-null  bool   \n",
      " 12  Bal_v_Sal           10000 non-null  float64\n",
      "dtypes: bool(5), float64(3), int64(5)\n",
      "memory usage: 674.0 KB\n"
     ]
    }
   ],
   "source": [
    "#Check that I did it correctly\n",
    "data.info()"
   ]
  },
  {
   "cell_type": "markdown",
   "id": "22dd85be-6c8e-451e-9056-d24a8ea3628f",
   "metadata": {},
   "source": [
    "## More Feature Engineering"
   ]
  },
  {
   "cell_type": "code",
   "execution_count": 11,
   "id": "4b1c545a-268d-4919-ad56-2b759e6121e3",
   "metadata": {},
   "outputs": [
    {
     "data": {
      "text/html": [
       "<div>\n",
       "<style scoped>\n",
       "    .dataframe tbody tr th:only-of-type {\n",
       "        vertical-align: middle;\n",
       "    }\n",
       "\n",
       "    .dataframe tbody tr th {\n",
       "        vertical-align: top;\n",
       "    }\n",
       "\n",
       "    .dataframe thead th {\n",
       "        text-align: right;\n",
       "    }\n",
       "</style>\n",
       "<table border=\"1\" class=\"dataframe\">\n",
       "  <thead>\n",
       "    <tr style=\"text-align: right;\">\n",
       "      <th></th>\n",
       "      <th>CreditScore</th>\n",
       "      <th>Age</th>\n",
       "      <th>EstimatedSalary</th>\n",
       "      <th>Balance</th>\n",
       "      <th>NumOfProducts</th>\n",
       "      <th>Tenure</th>\n",
       "      <th>Exited</th>\n",
       "      <th>Geography_Germany</th>\n",
       "      <th>Geography_Spain</th>\n",
       "      <th>Gender_Male</th>\n",
       "      <th>HasCrCard_Yes</th>\n",
       "      <th>IsActiveMember_Yes</th>\n",
       "      <th>Bal_to_Sal</th>\n",
       "      <th>Sal_v_Prods</th>\n",
       "    </tr>\n",
       "  </thead>\n",
       "  <tbody>\n",
       "    <tr>\n",
       "      <th>0</th>\n",
       "      <td>619</td>\n",
       "      <td>42</td>\n",
       "      <td>101348.88</td>\n",
       "      <td>0.00</td>\n",
       "      <td>1</td>\n",
       "      <td>2</td>\n",
       "      <td>1</td>\n",
       "      <td>False</td>\n",
       "      <td>False</td>\n",
       "      <td>False</td>\n",
       "      <td>True</td>\n",
       "      <td>True</td>\n",
       "      <td>0.00</td>\n",
       "      <td>101348.88</td>\n",
       "    </tr>\n",
       "    <tr>\n",
       "      <th>1</th>\n",
       "      <td>608</td>\n",
       "      <td>41</td>\n",
       "      <td>112542.58</td>\n",
       "      <td>83807.86</td>\n",
       "      <td>1</td>\n",
       "      <td>1</td>\n",
       "      <td>0</td>\n",
       "      <td>False</td>\n",
       "      <td>True</td>\n",
       "      <td>False</td>\n",
       "      <td>True</td>\n",
       "      <td>True</td>\n",
       "      <td>0.74</td>\n",
       "      <td>112542.58</td>\n",
       "    </tr>\n",
       "    <tr>\n",
       "      <th>2</th>\n",
       "      <td>502</td>\n",
       "      <td>42</td>\n",
       "      <td>113931.57</td>\n",
       "      <td>159660.80</td>\n",
       "      <td>3</td>\n",
       "      <td>8</td>\n",
       "      <td>1</td>\n",
       "      <td>False</td>\n",
       "      <td>False</td>\n",
       "      <td>False</td>\n",
       "      <td>False</td>\n",
       "      <td>False</td>\n",
       "      <td>1.40</td>\n",
       "      <td>37977.19</td>\n",
       "    </tr>\n",
       "    <tr>\n",
       "      <th>3</th>\n",
       "      <td>699</td>\n",
       "      <td>39</td>\n",
       "      <td>93826.63</td>\n",
       "      <td>0.00</td>\n",
       "      <td>2</td>\n",
       "      <td>1</td>\n",
       "      <td>0</td>\n",
       "      <td>False</td>\n",
       "      <td>False</td>\n",
       "      <td>False</td>\n",
       "      <td>False</td>\n",
       "      <td>False</td>\n",
       "      <td>0.00</td>\n",
       "      <td>46913.32</td>\n",
       "    </tr>\n",
       "    <tr>\n",
       "      <th>4</th>\n",
       "      <td>850</td>\n",
       "      <td>43</td>\n",
       "      <td>79084.10</td>\n",
       "      <td>125510.82</td>\n",
       "      <td>1</td>\n",
       "      <td>2</td>\n",
       "      <td>0</td>\n",
       "      <td>False</td>\n",
       "      <td>True</td>\n",
       "      <td>False</td>\n",
       "      <td>True</td>\n",
       "      <td>True</td>\n",
       "      <td>1.59</td>\n",
       "      <td>79084.10</td>\n",
       "    </tr>\n",
       "  </tbody>\n",
       "</table>\n",
       "</div>"
      ],
      "text/plain": [
       "   CreditScore  Age  EstimatedSalary    Balance  NumOfProducts  Tenure  \\\n",
       "0          619   42        101348.88       0.00              1       2   \n",
       "1          608   41        112542.58   83807.86              1       1   \n",
       "2          502   42        113931.57  159660.80              3       8   \n",
       "3          699   39         93826.63       0.00              2       1   \n",
       "4          850   43         79084.10  125510.82              1       2   \n",
       "\n",
       "   Exited  Geography_Germany  Geography_Spain  Gender_Male  HasCrCard_Yes  \\\n",
       "0       1              False            False        False           True   \n",
       "1       0              False             True        False           True   \n",
       "2       1              False            False        False          False   \n",
       "3       0              False            False        False          False   \n",
       "4       0              False             True        False           True   \n",
       "\n",
       "   IsActiveMember_Yes  Bal_to_Sal  Sal_v_Prods  \n",
       "0                True        0.00    101348.88  \n",
       "1                True        0.74    112542.58  \n",
       "2               False        1.40     37977.19  \n",
       "3               False        0.00     46913.32  \n",
       "4                True        1.59     79084.10  "
      ]
     },
     "execution_count": 11,
     "metadata": {},
     "output_type": "execute_result"
    }
   ],
   "source": [
    "#Instructions for this project started from the beginning, but I am not getting lost in EDA. They add a new feature: income v products.\n",
    "#I will also be renaming the Bal_v_Sal column to 'Bal_to_Sal' based on this project's instructions\n",
    "data=data.rename(columns={'Bal_v_Sal':'Bal_to_Sal'})\n",
    "data['Sal_v_Prods']=round(data.EstimatedSalary/data.NumOfProducts,2)\n",
    "data.head()"
   ]
  },
  {
   "cell_type": "markdown",
   "id": "1560f40a-58f7-408d-9345-8070d340dd5f",
   "metadata": {},
   "source": [
    "## Split the Data"
   ]
  },
  {
   "cell_type": "code",
   "execution_count": 15,
   "id": "5192bffa-22e4-4a36-ada2-582695b80d95",
   "metadata": {},
   "outputs": [],
   "source": [
    "#Define the features\n",
    "X=data[['Age','EstimatedSalary','Geography_Germany','Geography_Spain','Gender_Male','Bal_to_Sal','Sal_v_Prods']]\n",
    "\n",
    "#Define the target\n",
    "y=data['Exited']\n",
    "\n",
    "#Split the training and test data sets\n",
    "X_train, X_test,y_train, y_test = train_test_split(X,y ,\n",
    "                                   random_state=104, \n",
    "                                   test_size=0.2, \n",
    "                                   shuffle=True)"
   ]
  },
  {
   "cell_type": "code",
   "execution_count": 17,
   "id": "63043c27-5eb3-40cd-8d4e-29e3af089791",
   "metadata": {},
   "outputs": [
    {
     "data": {
      "text/plain": [
       "9919    0\n",
       "7994    1\n",
       "3564    1\n",
       "6734    1\n",
       "1588    0\n",
       "Name: Exited, dtype: int64"
      ]
     },
     "execution_count": 17,
     "metadata": {},
     "output_type": "execute_result"
    }
   ],
   "source": [
    "#Check out the data\n",
    "#X_train.head()\n",
    "y_train.head()"
   ]
  },
  {
   "cell_type": "markdown",
   "id": "525db000-2ae9-4063-90be-7121230a06af",
   "metadata": {},
   "source": [
    "## Logistic Regression Model"
   ]
  },
  {
   "cell_type": "code",
   "execution_count": 19,
   "id": "9e10d88c-a8aa-4dcd-ad70-eec41a495e98",
   "metadata": {},
   "outputs": [],
   "source": [
    "from sklearn.linear_model import LogisticRegression\n",
    "\n",
    "churn=LogisticRegression().fit(X_train,y_train)"
   ]
  },
  {
   "cell_type": "code",
   "execution_count": 29,
   "id": "a677991a-d0a1-49f9-b2f1-fd3f9d2040c4",
   "metadata": {},
   "outputs": [],
   "source": [
    "#churn.predict_proba(X_train)\n",
    "#churn.score(X_train,y_train)\n"
   ]
  },
  {
   "cell_type": "markdown",
   "id": "ea70350a-e592-4b07-871c-cde0f067f7ef",
   "metadata": {},
   "source": [
    "### Confusion Matrix"
   ]
  },
  {
   "cell_type": "code",
   "execution_count": 30,
   "id": "c65df979-5caa-4e1a-9dd6-53af5e58a2fc",
   "metadata": {},
   "outputs": [],
   "source": [
    "from sklearn import metrics"
   ]
  },
  {
   "cell_type": "code",
   "execution_count": null,
   "id": "a3248ab2-eef6-4177-bdd7-8fe4c8a0efb7",
   "metadata": {},
   "outputs": [],
   "source": []
  }
 ],
 "metadata": {
  "kernelspec": {
   "display_name": "anaconda-ai-2024.04-py310",
   "language": "python",
   "name": "conda-env-anaconda-ai-2024.04-py310-py"
  },
  "language_info": {
   "codemirror_mode": {
    "name": "ipython",
    "version": 3
   },
   "file_extension": ".py",
   "mimetype": "text/x-python",
   "name": "python",
   "nbconvert_exporter": "python",
   "pygments_lexer": "ipython3",
   "version": "3.10.13"
  }
 },
 "nbformat": 4,
 "nbformat_minor": 5
}
